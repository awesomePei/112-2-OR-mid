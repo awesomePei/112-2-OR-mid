{
 "cells": [
  {
   "cell_type": "code",
   "execution_count": null,
   "id": "acbeb4fb",
   "metadata": {},
   "outputs": [
    {
     "data": {
      "text/plain": [
       "0    None\n",
       "1    None\n",
       "2    None\n",
       "Name: Stage-2 Machines, dtype: object"
      ]
     },
     "execution_count": 21,
     "metadata": {},
     "output_type": "execute_result"
    }
   ],
   "source": [
    "import pandas as pd\n",
    "import itertools as it\n",
    "from gurobipy import Model, GRB, quicksum\n",
    "\n",
    "# Load and clean your data\n",
    "data = pd.read_csv('/Users/cindychang/Documents/school/大二/OR/Mid/112-2-OR-MID/midterm/data/instance03.csv')\n",
    "\n",
    "def parse_machine_list(machine_list):\n",
    "    if pd.isna(machine_list):\n",
    "        return []\n",
    "    return list(map(int, machine_list.split(',')))\n",
    "\n",
    "data['Stage-1 Machines'] = data['Stage-1 Machines'].apply(parse_machine_list)\n",
    "data['Stage-2 Machines'] = data['Stage-2 Machines'].apply(parse_machine_list)\n",
    "\n",
    "# set up all the machine's id\n",
    "all_machines = set()\n",
    "data['Stage-1 Machines'].apply(lambda machines: all_machines.update(machines))\n",
    "data['Stage-2 Machines'].apply(lambda machines: all_machines.update(machines))"
   ]
  },
  {
   "cell_type": "code",
   "execution_count": null,
   "id": "ff922813",
   "metadata": {},
   "outputs": [],
   "source": [
    "# Initialize the model\n",
    "model = Model(\"Job_Scheduling\")\n",
    "\n",
    "# Extract jobs, machines, and assume stages and data are set\n",
    "jobs = data['Job ID'].unique()\n",
    "machines = set(sum(data['Stage-1 Machines'].tolist(), []) + sum(data['Stage-2 Machines'].tolist(), []))\n",
    "\n",
    "# Define a large M\n",
    "M = 10000000000"
   ]
  },
  {
   "cell_type": "code",
   "execution_count": null,
   "id": "82868d51",
   "metadata": {},
   "outputs": [],
   "source": [
    "c = model.addVars(jobs, [1, 2], name = \"c\", vtype = GRB.CONTINUOUS, lb = 0.0)  # Completion times\n",
    "x = model.addVars(jobs, [1, 2], machines, name = \"x\", vtype = GRB.BINARY)      # Machine assignment\n",
    "y = model.addVars(jobs, [1, 2], jobs, [1, 2], machines, name = \"y\", vtype = GRB.BINARY)\n",
    "T = model.addVars(jobs, name = \"T\", vtype = GRB.CONTINUOUS, lb = 0.0)          # Tardiness"
   ]
  },
  {
   "cell_type": "code",
   "execution_count": null,
   "id": "bb9685fb",
   "metadata": {},
   "outputs": [],
   "source": [
    "# Objective function\n",
    "model.setObjective(quicksum(T[j] for j in jobs), GRB.MINIMIZE)"
   ]
  },
  {
   "cell_type": "code",
   "execution_count": null,
   "id": "a2ed7c97",
   "metadata": {},
   "outputs": [],
   "source": [
    "# 1. Job assignment for each stage\n",
    "for j in jobs:\n",
    "    # For stage 1:\n",
    "    stage_1_machines = data.at[data.index[data['Job ID'] == j][0], 'Stage-1 Machines']\n",
    "    # model.addConstr((x[j, 1, k] for k in machines if k not in stage_1_machines) == 0, name=f\"Job_Assignment_Stage1_{j}_0\")\n",
    "    model.addConstr(quicksum(x[j, 1, k] for k in stage_1_machines) == 1, name=f\"Job_Assignment_Stage1_{j}_1\")\n",
    "    model.addConstr(quicksum(x[j, 1, k] for k in machines) <= 1, name=f\"Job_Assignment_Stage1_{j}_2\")\n",
    "    \n",
    "    # For stage 2:\n",
    "    stage_2_machines = data.at[data.index[data['Job ID'] == j][0], 'Stage-2 Machines']\n",
    "    if stage_2_machines == []:\n",
    "        model.addConstr(quicksum(x[j, 2, k] for k in machines) == 0, name=f\"Job_Assignment_Stage2_{j}\")\n",
    "    else:\n",
    "        # model.addConstr((x[j, 2, k] for k in machines if k not in stage_2_machines) == 0, name=f\"Job_Assignment_Stage2_{j}_0\")\n",
    "        model.addConstr(quicksum(x[j, 2, k] for k in stage_2_machines) == 1, name=f\"Job_Assignment_Stage2_{j}_1\")\n",
    "        model.addConstr(quicksum(x[j, 2, k] for k in machines) <= 1, name=f\"Job_Assignment_Stage2_{j}_2\")"
   ]
  },
  {
   "cell_type": "code",
   "execution_count": null,
   "id": "67dbcd50",
   "metadata": {},
   "outputs": [
    {
     "name": "stdout",
     "output_type": "stream",
     "text": [
      "Job 1: 2.7, 1.3\n",
      "Job 2: 1.6, 1.4\n",
      "Job 3: 0.7, 1.9\n"
     ]
    }
   ],
   "source": [
    "# 2. Interprocess time constraint\n",
    "for j in jobs:\n",
    "    p1 = data.loc[data['Job ID'] == j, 'Stage-1 Processing Time'].values[0]\n",
    "    p2 = data.loc[data['Job ID'] == j, 'Stage-2 Processing Time'].values[0]\n",
    "    print(f\"Job {j}: {p1}, {p2}\")\n",
    "    model.addConstr(c[j, 2] - c[j, 1] - p2 <= 1)\n",
    "    model.addConstr(c[j, 2] - c[j, 1] - p2 >= 0)\n",
    "    if p2 == 0:\n",
    "        model.addConstr(c[j, 2] == c[j, 1])"
   ]
  },
  {
   "cell_type": "code",
   "execution_count": null,
   "id": "b6bcf4d8",
   "metadata": {},
   "outputs": [],
   "source": [
    "# 3. Job order constraint\n",
    "for j, l in it.combinations(jobs, 2):\n",
    "    # print(j, l);\n",
    "    for i in machines:\n",
    "        model.addConstr((x[j, 1, i] + x[l, 1, i] <= y[j, 1, l, 1, i] + y[l, 1, j, 1, i] + 1))\n",
    "        model.addConstr((x[j, 1, i] + x[l, 2, i] <= y[j, 1, l, 2, i] + y[l, 2, j, 1, i] + 1))\n",
    "        model.addConstr((x[j, 2, i] + x[l, 1, i] <= y[j, 2, l, 1, i] + y[l, 1, j, 2, i] + 1))\n",
    "        model.addConstr((x[j, 2, i] + x[l, 2, i] <= y[j, 2, l, 2, i] + y[l, 2, j, 2, i] + 1))\n",
    "\n",
    "for j, l in it.combinations(jobs, 2):\n",
    "    p_l1 = data.loc[data['Job ID'] == l, 'Stage-1 Processing Time'].values[0]\n",
    "    p_l2 = data.loc[data['Job ID'] == l, 'Stage-2 Processing Time'].values[0]\n",
    "    # For j stage 1\n",
    "    stage_1_machines = data.at[data.index[data['Job ID'] == j][0], 'Stage-1 Machines']\n",
    "    for i in stage_1_machines:\n",
    "        model.addConstr(c[j, 1] + p_l1 - c[l, 1] <= M*(1 - y[j, 1, l, 1, i]))\n",
    "        model.addConstr(c[j, 1] + p_l2 - c[l, 2] <= M*(1 - y[j, 1, l, 2, i]))\n",
    "    # For j stage 2\n",
    "    stage_2_machines = data.at[data.index[data['Job ID'] == j][0], 'Stage-2 Machines']\n",
    "    for i in stage_2_machines:\n",
    "        model.addConstr(c[j, 2] + p_l1 - c[l, 1] <= M*(1 - y[j, 2, l, 1, i]))\n",
    "        model.addConstr(c[j, 2] + p_l2 - c[l, 2] <= M*(1 - y[j, 2, l, 2, i]))\n",
    "    \n",
    "    p_j1 = data.loc[data['Job ID'] == j, 'Stage-1 Processing Time'].values[0]\n",
    "    p_j2 = data.loc[data['Job ID'] == j, 'Stage-2 Processing Time'].values[0]\n",
    "    # For l stage 1\n",
    "    stage_1_machines = data.at[data.index[data['Job ID'] == l][0], 'Stage-1 Machines']\n",
    "    for i in stage_1_machines:\n",
    "        model.addConstr(c[l, 1] + p_j1 - c[j, 1] <= M*(1 - y[l, 1, j, 1, i]))\n",
    "        model.addConstr(c[l, 1] + p_j2 - c[j, 2] <= M*(1 - y[l, 1, j, 2, i]))\n",
    "    # For l stage 2\n",
    "    stage_2_machines = data.at[data.index[data['Job ID'] == l][0], 'Stage-2 Machines']\n",
    "    for i in stage_2_machines:\n",
    "        model.addConstr(c[l, 2] + p_j1 - c[j, 1] <= M*(1 - y[l, 2, j, 1, i]))\n",
    "        model.addConstr(c[l, 2] + p_j2 - c[j, 2] <= M*(1 - y[l, 2, j, 2, i]))"
   ]
  },
  {
   "cell_type": "code",
   "execution_count": null,
   "id": "cf4ff8db",
   "metadata": {},
   "outputs": [],
   "source": [
    "# 5. Linearized tardiness calculation\n",
    "for j in jobs:\n",
    "    d = data.loc[data['Job ID'] == j, 'Due Time'].values[0]\n",
    "    model.addConstr(T[j] >= c[j, 2] - d)\n",
    "    model.addConstr(T[j] >= 0)"
   ]
  },
  {
   "cell_type": "code",
   "execution_count": null,
   "id": "a10f1526",
   "metadata": {
    "scrolled": false
   },
   "outputs": [
    {
     "name": "stdout",
     "output_type": "stream",
     "text": [
      "Gurobi Optimizer version 11.0.1 build v11.0.1rc0 (mac64[rosetta2] - Darwin 21.6.0 21G72)\n",
      "\n",
      "CPU model: Apple M1\n",
      "Thread count: 8 physical cores, 8 logical processors, using up to 8 threads\n",
      "\n",
      "Optimize a model with 96 rows, 93 columns and 285 nonzeros\n",
      "Model fingerprint: 0x6b1cc935\n",
      "Variable types: 9 continuous, 84 integer (84 binary)\n",
      "Coefficient statistics:\n",
      "  Matrix range     [1e+00, 1e+10]\n",
      "  Objective range  [1e+00, 1e+00]\n",
      "  Bounds range     [1e+00, 1e+00]\n",
      "  RHS range        [1e+00, 1e+10]\n",
      "Warning: Model contains large matrix coefficients\n",
      "Warning: Model contains large rhs\n",
      "         Consider reformulating model or setting NumericFocus parameter\n",
      "         to avoid numerical issues.\n",
      "Found heuristic solution: objective 0.9000001\n",
      "Presolve removed 19 rows and 38 columns\n",
      "Presolve time: 0.00s\n",
      "Presolved: 77 rows, 55 columns, 234 nonzeros\n",
      "Variable types: 9 continuous, 46 integer (46 binary)\n",
      "\n",
      "Root relaxation: objective 0.000000e+00, 9 iterations, 0.00 seconds (0.00 work units)\n",
      "\n",
      "    Nodes    |    Current Node    |     Objective Bounds      |     Work\n",
      " Expl Unexpl |  Obj  Depth IntInf | Incumbent    BestBd   Gap | It/Node Time\n",
      "\n",
      "     0     0    0.00000    0    6    0.90000    0.00000   100%     -    0s\n",
      "H    0     0                       0.9000000    0.00000   100%     -    0s\n",
      "H    0     0                       0.8999992    0.00000   100%     -    0s\n",
      "*    0     0               0       0.0000000    0.00000  0.00%     -    0s\n",
      "\n",
      "Cutting planes:\n",
      "  Gomory: 1\n",
      "  Zero half: 4\n",
      "  RLT: 3\n",
      "\n",
      "Explored 1 nodes (22 simplex iterations) in 0.03 seconds (0.00 work units)\n",
      "Thread count was 8 (of 8 available processors)\n",
      "\n",
      "Solution count 3: 0 0.899999 0.9 \n",
      "\n",
      "Optimal solution found (tolerance 1.00e-04)\n",
      "Best objective 0.000000000000e+00, best bound 0.000000000000e+00, gap 0.0000%\n",
      "Total Tardiness: 0.0\n",
      "Job 1 Tardiness: 0.0\n",
      "Stage 1 completion time: 0.0\n",
      "Stage 2 completion time: 1.3\n",
      "Job 2 Tardiness: 0.0\n",
      "Stage 1 completion time: 0.0\n",
      "Stage 2 completion time: 1.4\n",
      "Job 3 Tardiness: 0.0\n",
      "Stage 1 completion time: 0.0\n",
      "Stage 2 completion time: 1.9\n",
      "Job 1 Stage 2 in machine: 1\n",
      "Job 1 Stage 1 in machine: 2\n",
      "Job 2 Stage 1 in machine: 2\n",
      "Job 2 Stage 2 in machine: 2\n",
      "Job 3 Stage 1 in machine: 1\n",
      "Job 3 Stage 2 in machine: 1\n"
     ]
    }
   ],
   "source": [
    "# Optimize the model\n",
    "model.optimize()\n",
    "\n",
    "if model.status == GRB.INFEASIBLE:\n",
    "    print(\"Model is infeasible; computing IIS\")\n",
    "    model.computeIIS()\n",
    "    model.write(\"model.ilp\")\n",
    "\n",
    "if model.status == GRB.OPTIMAL:\n",
    "    print(f\"Total Tardiness: {model.objVal}\")\n",
    "    for j in jobs:\n",
    "        print(f\"Job {j} Tardiness: {T[j].X}\")\n",
    "        for stage in [1, 2]:\n",
    "            print(f\"Stage {stage} completion time: {c[j, stage].X}\")\n",
    "\n",
    "# for stage in range(1,2):\n",
    "    for j in jobs:\n",
    "        for k in machines:\n",
    "            for stage in [1, 2]:\n",
    "                if x[j, stage, k].X == 1:\n",
    "                    print(f\"Job {j} Stage {stage} in machine: {k}\")"
   ]
  },
  {
   "cell_type": "code",
   "execution_count": null,
   "id": "e05afe50",
   "metadata": {},
   "outputs": [],
   "source": []
  },
  {
   "cell_type": "code",
   "execution_count": null,
   "id": "fa8584f9",
   "metadata": {},
   "outputs": [],
   "source": []
  }
 ],
 "metadata": {
  "kernelspec": {
   "display_name": "Python 3 (ipykernel)",
   "language": "python",
   "name": "python3"
  },
  "language_info": {
   "codemirror_mode": {
    "name": "ipython",
    "version": 3
   },
   "file_extension": ".py",
   "mimetype": "text/x-python",
   "name": "python",
   "nbconvert_exporter": "python",
   "pygments_lexer": "ipython3",
   "version": "3.9.13"
  }
 },
 "nbformat": 4,
 "nbformat_minor": 5
}
