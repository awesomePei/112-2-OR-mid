{
 "cells": [
  {
   "cell_type": "code",
   "execution_count": null,
   "id": "3504aa78",
   "metadata": {},
   "outputs": [],
   "source": [
    "import random\n",
    "\n",
    "def generate_instance(num_jobs, num_machines, complexity):\n",
    "    jobs = []\n",
    "    for _ in range(num_jobs):\n",
    "        stages = random.choice([1, 2]) if complexity == 'mixed' else 2\n",
    "        machines = random.sample(range(num_machines), random.randint(1, num_machines))\n",
    "        processing_times = [random.randint(1, 10) for _ in range(stages)]\n",
    "        due_time = sum(processing_times) + random.randint(0, 10)\n",
    "        jobs.append((stages, machines, processing_times, due_time))\n",
    "    return jobs\n",
    "\n",
    "def run_heuristic(jobs):\n",
    "    # Your heuristic logic here\n",
    "    pass\n",
    "\n",
    "def main():\n",
    "    scenarios = [\n",
    "        {'num_jobs': 25, 'num_machines': 5, 'complexity': 'mixed'},\n",
    "        {'num_jobs': 50, 'num_machines': 10, 'complexity': 'uniform'}\n",
    "    ]\n",
    "    \n",
    "    results = []\n",
    "    for scenario in scenarios:\n",
    "        instance = generate_instance(**scenario)\n",
    "        result = run_heuristic(instance)\n",
    "        results.append(result)\n",
    "    \n",
    "    # Analyze results here\n",
    "    print(results)\n",
    "\n",
    "if __name__ == \"__main__\":\n",
    "    main()\n"
   ]
  }
 ],
 "metadata": {
  "kernelspec": {
   "display_name": "Python 3 (ipykernel)",
   "language": "python",
   "name": "python3"
  },
  "language_info": {
   "codemirror_mode": {
    "name": "ipython",
    "version": 3
   },
   "file_extension": ".py",
   "mimetype": "text/x-python",
   "name": "python",
   "nbconvert_exporter": "python",
   "pygments_lexer": "ipython3",
   "version": "3.10.9"
  }
 },
 "nbformat": 4,
 "nbformat_minor": 5
}
